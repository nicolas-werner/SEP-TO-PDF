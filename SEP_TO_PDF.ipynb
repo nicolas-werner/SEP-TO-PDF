{
 "cells": [
  {
   "cell_type": "code",
   "execution_count": 19,
   "id": "c1816a51",
   "metadata": {},
   "outputs": [],
   "source": [
    "import requests\n",
    "from bs4 import BeautifulSoup\n",
    "from requests.api import options\n",
    "import pdfkit\n",
    "\n",
    "\n",
    "URL = \"https://plato.stanford.edu/entries/plato-theaetetus/\"\n",
    "page = requests.get(URL)\n",
    "#define output path:\n",
    "output = \"test.pdf\""
   ]
  },
  {
   "cell_type": "code",
   "execution_count": 29,
   "id": "0fb1c631",
   "metadata": {},
   "outputs": [
    {
     "name": "stdout",
     "output_type": "stream",
     "text": [
      "Loading pages (1/6)\n",
      "[>                                                           ] 0%\r",
      "[======>                                                     ] 10%\r",
      "[==============================>                             ] 50%\r",
      "[============================================================] 100%\r",
      "Counting pages (2/6)                                               \n",
      "[============================================================] Object 1 of 1\r",
      "Resolving links (4/6)                                                       \n",
      "[============================================================] Object 1 of 1\r",
      "Loading headers and footers (5/6)                                           \n",
      "Printing pages (6/6)\n",
      "[>                                                           ] Preparing\r",
      "[===>                                                        ] Page 1 of 16\r",
      "[=======>                                                    ] Page 2 of 16\r",
      "[==========>                                                 ] Page 3 of 16\r",
      "[===============>                                            ] Page 4 of 16\r",
      "[==================>                                         ] Page 5 of 16\r",
      "[======================>                                     ] Page 6 of 16\r",
      "[=========================>                                  ] Page 7 of 16\r",
      "[==============================>                             ] Page 8 of 16\r",
      "[=================================>                          ] Page 9 of 16\r",
      "[=====================================>                      ] Page 10 of 16\r",
      "[========================================>                   ] Page 11 of 16\r",
      "[=============================================>              ] Page 12 of 16\r",
      "[================================================>           ] Page 13 of 16\r",
      "[====================================================>       ] Page 14 of 16\r",
      "[=======================================================>    ] Page 15 of 16\r",
      "[============================================================] Page 16 of 16\r",
      "Done                                                                        \n"
     ]
    },
    {
     "data": {
      "text/plain": [
       "True"
      ]
     },
     "execution_count": 29,
     "metadata": {},
     "output_type": "execute_result"
    }
   ],
   "source": [
    "import re\n",
    "soup = BeautifulSoup(page.content, \"html.parser\")\n",
    "\n",
    "header = soup.find(\"h1\")\n",
    "header = str(header.prettify())\n",
    "content = soup.find(id=\"toc\")\n",
    "\n",
    "content = str(content.prettify())\n",
    "#content = content.replace()\n",
    "article = soup.find(id=\"main-text\")\n",
    "article = str(article.prettify())\n",
    "article = \"<style>#main-text {text-align:justify;}</style>\" + article\n",
    "full_article = header + content + article\n",
    "#print(article)\n",
    "\n",
    "pdfkit.from_string(full_article, output_path = output, options={'encoding': \"UTF-8\"})"
   ]
  },
  {
   "cell_type": "code",
   "execution_count": 30,
   "id": "c8f307bf",
   "metadata": {},
   "outputs": [
    {
     "data": {
      "text/plain": [
       "'<div id=\"toc\">\\n <!--Entry Contents-->\\n <ul>\\n  <li>\\n   <a href=\"#Int\">\\n    1. Introduction\\n   </a>\\n  </li>\\n  <li>\\n   <a href=\"#SumDia\">\\n    2. Summary of the Dialogue\\n   </a>\\n  </li>\\n  <li>\\n   <a href=\"#OveIntThe\">\\n    3. Overall Interpretations of the\\n    <em>\\n     Theaetetus\\n    </em>\\n   </a>\\n  </li>\\n  <li>\\n   <a href=\"#IntDia142145\">\\n    4. The Introduction to the Dialogue: 142a–145e\\n   </a>\\n  </li>\\n  <li>\\n   <a href=\"#DefExa146151\">\\n    5. Definition by Examples: 146a–151d\\n   </a>\\n  </li>\\n  <li>\\n   <a href=\"#FirDefD1KnoPer151187\">\\n    6. First Definition (D1): “Knowledge is Perception”: 151e–187a\\n   </a>\\n   <ul>\\n    <li>\\n     <a href=\"#DefKnoPer151E\">\\n      6.1 The Definition of Knowledge as Perception: 151d–e\\n     </a>\\n    </li>\\n    <li>\\n     <a href=\"#ColWinArgTheFlu152160\">\\n      6.2 The “Cold Wind” Argument; and the Theory of Flux: 152a–160e\\n     </a>\\n    </li>\\n    <li>\\n     <a href=\"#RefTheKnoPer160186\">\\n      6.3 The Refutation of the Thesis that Knowledge is Perception: 160e5–186e12\\n     </a>\\n    </li>\\n    <li>\\n     <a href=\"#Dig172177\">\\n      6.4 The Digression: 172c1–177b7\\n     </a>\\n    </li>\\n    <li>\\n     <a href=\"#LasObjPro177179\">\\n      6.5 Last Objection to Protagoras: 177c6–179b5\\n     </a>\\n    </li>\\n    <li>\\n     <a href=\"#LasObjHer179183\">\\n      6.6 Last Objection to Heracleitus: 179c1–183c2\\n     </a>\\n    </li>\\n    <li>\\n     <a href=\"#FinRefD1183187\">\\n      6.7 The Final Refutation of D1: 183c4–187a8\\n     </a>\\n    </li>\\n   </ul>\\n  </li>\\n  <li>\\n   <a href=\"#SecDefD2KnoTruJud187201\">\\n    7. Second Definition (D2): “Knowledge is True Judgement”: 187b–201c\\n   </a>\\n   <ul>\\n    <li>\\n     <a href=\"#PuzMis187188\">\\n      7.1 The Puzzle of Misidentification: 187e5–188c8\\n     </a>\\n    </li>\\n    <li>\\n     <a href=\"#SecPuzAboFalBelBelWhaNot188189\">\\n      7.2 Second Puzzle About False Belief: “Believing What is Not”: 188c10–189b9\\n     </a>\\n    </li>\\n    <li>\\n     <a href=\"#ThiPuzAboFalBelAll189190\">\\n      7.3 Third Puzzle About False Belief:\\n      <em>\\n       Allodoxia\\n      </em>\\n      : 189b10–190e4\\n     </a>\\n    </li>\\n    <li>\\n     <a href=\"#FouPuzAboFalBelWaxTab190196\">\\n      7.4 Fourth Puzzle About False Belief: the Wax Tablet: 190e5–196c5\\n     </a>\\n    </li>\\n    <li>\\n     <a href=\"#FifPuzAboFalBelAvi196200\">\\n      7.5 Fifth Puzzle About False Belief: the Aviary: 196d1–200d4\\n     </a>\\n    </li>\\n    <li>\\n     <a href=\"#FinRefD2200201\">\\n      7.6 The Final Refutation of D2: 200d5–201c7\\n     </a>\\n    </li>\\n   </ul>\\n  </li>\\n  <li>\\n   <a href=\"#ThiDefD3KnoTruJudAcc201210\">\\n    8. Third Definition (D3): “Knowledge is True Judgement With an Account”: 201d–210a\\n   </a>\\n   <ul>\\n    <li>\\n     <a href=\"#DreSoc201202\">\\n      8.1 The Dream of Socrates: 201d8–202d7\\n     </a>\\n    </li>\\n    <li>\\n     <a href=\"#CriDreThe202206\">\\n      8.2 Critique of the Dream Theory: 202d8–206c2\\n     </a>\\n    </li>\\n    <li>\\n     <a href=\"#ThrAttUndLog206210\">\\n      8.3 Three Attempts to Understand\\n      <em>\\n       Logos\\n      </em>\\n      : 206c2–210a9\\n     </a>\\n    </li>\\n   </ul>\\n  </li>\\n  <li>\\n   <a href=\"#Con\">\\n    9. Conclusion\\n   </a>\\n  </li>\\n  <li>\\n   <a href=\"#Bib\">\\n    Bibliography\\n   </a>\\n  </li>\\n  <li>\\n   <a href=\"#Aca\">\\n    Academic Tools\\n   </a>\\n  </li>\\n  <li>\\n   <a href=\"#Oth\">\\n    Other Internet Resources\\n   </a>\\n  </li>\\n  <li>\\n   <a href=\"#Rel\">\\n    Related Entries\\n   </a>\\n  </li>\\n </ul>\\n <!--Entry Contents-->\\n <hr/>\\n</div>\\n'"
      ]
     },
     "execution_count": 30,
     "metadata": {},
     "output_type": "execute_result"
    }
   ],
   "source": [
    "content"
   ]
  },
  {
   "cell_type": "code",
   "execution_count": null,
   "id": "c39db7ab",
   "metadata": {},
   "outputs": [],
   "source": []
  }
 ],
 "metadata": {
  "kernelspec": {
   "display_name": "Python 3 (ipykernel)",
   "language": "python",
   "name": "python3"
  },
  "language_info": {
   "codemirror_mode": {
    "name": "ipython",
    "version": 3
   },
   "file_extension": ".py",
   "mimetype": "text/x-python",
   "name": "python",
   "nbconvert_exporter": "python",
   "pygments_lexer": "ipython3",
   "version": "3.9.6"
  }
 },
 "nbformat": 4,
 "nbformat_minor": 5
}
